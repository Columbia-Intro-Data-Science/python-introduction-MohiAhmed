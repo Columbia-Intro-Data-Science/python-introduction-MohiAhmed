{
 "cells": [
  {
   "cell_type": "code",
   "execution_count": 1,
   "metadata": {},
   "outputs": [
    {
     "name": "stderr",
     "output_type": "stream",
     "text": [
      "C:\\Users\\tuleg\\Anaconda3\\lib\\site-packages\\statsmodels\\compat\\pandas.py:56: FutureWarning: The pandas.core.datetools module is deprecated and will be removed in a future version. Please use the pandas.tseries module instead.\n",
      "  from pandas.core import datetools\n",
      "C:\\Users\\tuleg\\Anaconda3\\lib\\site-packages\\sklearn\\cross_validation.py:41: DeprecationWarning: This module was deprecated in version 0.18 in favor of the model_selection module into which all the refactored classes and functions are moved. Also note that the interface of the new CV iterators are different from that of this module. This module will be removed in 0.20.\n",
      "  \"This module will be removed in 0.20.\", DeprecationWarning)\n"
     ]
    },
    {
     "name": "stdout",
     "output_type": "stream",
     "text": [
      "Requirement already satisfied: pytrends in c:\\users\\tuleg\\anaconda3\\lib\\site-packages\n",
      "Requirement already satisfied: requests in c:\\users\\tuleg\\anaconda3\\lib\\site-packages (from pytrends)\n",
      "Requirement already satisfied: lxml in c:\\users\\tuleg\\anaconda3\\lib\\site-packages (from pytrends)\n",
      "Requirement already satisfied: pandas in c:\\users\\tuleg\\anaconda3\\lib\\site-packages (from pytrends)\n",
      "Requirement already satisfied: chardet<3.1.0,>=3.0.2 in c:\\users\\tuleg\\anaconda3\\lib\\site-packages (from requests->pytrends)\n",
      "Requirement already satisfied: idna<2.7,>=2.5 in c:\\users\\tuleg\\anaconda3\\lib\\site-packages (from requests->pytrends)\n",
      "Requirement already satisfied: urllib3<1.23,>=1.21.1 in c:\\users\\tuleg\\anaconda3\\lib\\site-packages (from requests->pytrends)\n",
      "Requirement already satisfied: certifi>=2017.4.17 in c:\\users\\tuleg\\anaconda3\\lib\\site-packages (from requests->pytrends)\n",
      "Requirement already satisfied: python-dateutil>=2 in c:\\users\\tuleg\\anaconda3\\lib\\site-packages (from pandas->pytrends)\n",
      "Requirement already satisfied: pytz>=2011k in c:\\users\\tuleg\\anaconda3\\lib\\site-packages (from pandas->pytrends)\n",
      "Requirement already satisfied: numpy>=1.7.0 in c:\\users\\tuleg\\anaconda3\\lib\\site-packages (from pandas->pytrends)\n",
      "Requirement already satisfied: six>=1.5 in c:\\users\\tuleg\\anaconda3\\lib\\site-packages (from python-dateutil>=2->pandas->pytrends)\n"
     ]
    },
    {
     "name": "stderr",
     "output_type": "stream",
     "text": [
      "You are using pip version 9.0.1, however version 10.0.1 is available.\n",
      "You should consider upgrading via the 'python -m pip install --upgrade pip' command.\n"
     ]
    }
   ],
   "source": [
    "# read data into a DataFrame and importing all regression related libraries.\n",
    "import pandas as pd\n",
    "import pylab as plt\n",
    "import seaborn\n",
    "from sklearn.linear_model import LinearRegression\n",
    "import numpy.random as nprnd\n",
    "import random\n",
    "import json\n",
    "import statsmodels.api as sm\n",
    "from sklearn.cross_validation import KFold\n",
    "from sklearn.metrics import confusion_matrix\n",
    "from sklearn.preprocessing import StandardScaler\n",
    "from sklearn.linear_model import LogisticRegression\n",
    "from sklearn.metrics import r2_score\n",
    "from sklearn.svm import SVC\n",
    "from sklearn.ensemble import RandomForestClassifier as RF\n",
    "from sklearn.neighbors import KNeighborsClassifier as KNN\n",
    "import numpy as np\n",
    "import matplotlib.pyplot as plt\n",
    "from sklearn.metrics import roc_curve, auc\n",
    "from sklearn.utils import shuffle\n",
    "from sklearn.metrics import roc_curve, auc\n",
    "from sklearn import svm\n",
    "from sklearn.linear_model import LogisticRegression\n",
    "from sklearn.ensemble import RandomForestClassifier\n",
    "import re\n",
    "from sklearn import datasets, linear_model\n",
    "from sklearn.metrics import mean_squared_error, r2_score\n",
    "from sklearn.cross_validation import train_test_split\n",
    "\n",
    "import sys\n",
    "!{sys.executable} -m pip install pytrends\n",
    "\n",
    "from pytrends.request import TrendReq\n",
    "\n",
    "pytrends = TrendReq(hl='en-US', tz=360)"
   ]
  },
  {
   "cell_type": "code",
   "execution_count": 2,
   "metadata": {
    "collapsed": true
   },
   "outputs": [],
   "source": [
    "#cleaned data\n",
    "df=pd.read_csv(\"/Users/tuleg/Documents/python-introduction-MohiAhmed/data2.csv\")"
   ]
  },
  {
   "cell_type": "code",
   "execution_count": 3,
   "metadata": {
    "collapsed": true
   },
   "outputs": [],
   "source": [
    "import matplotlib.pyplot as plt\n",
    "%matplotlib inline\n",
    "#defining variables from dataset\n",
    "NAS=df['NASDAQ']\n",
    "KOS=df['KOSDAQ']\n",
    "BTC=df['BTC']\n",
    "IMP=df['Adj Impressions']\n",
    "Date=df['Date']"
   ]
  },
  {
   "cell_type": "code",
   "execution_count": 5,
   "metadata": {},
   "outputs": [
    {
     "name": "stdout",
     "output_type": "stream",
     "text": [
      "Normalized Coefficients: \n",
      " [ 0.83910491 -0.23417065  0.66463151]\n",
      "Normalized Residual sum of squares: 0.02\n",
      "Normalized Variance score: 0.69\n",
      "Normalized Coefficients: \n",
      " [ 0.83910491 -0.23417065  0.66463151]\n",
      "Normalized Mean squared error: 0.02\n",
      "Normalized R^2: 0.69\n"
     ]
    },
    {
     "data": {
      "text/plain": [
       "<matplotlib.axes._subplots.AxesSubplot at 0x28e969ab6a0>"
      ]
     },
     "execution_count": 5,
     "metadata": {},
     "output_type": "execute_result"
    },
    {
     "data": {
      "image/png": "[encoded data removed]",
      "text/plain": [
       "<matplotlib.figure.Figure at 0x28e9675c470>"
      ]
     },
     "metadata": {},
     "output_type": "display_data"
    }
   ],
   "source": [
    "df3=df.drop(['Date'], axis=1)\n",
    "df3.head()\n",
    "df3_norm = (df3 - df3.mean()) / (df3.max() - df3.min()) #standardizing vars\n",
    "#Redoing with standardization\n",
    "ynorm=df3_norm['BTC']\n",
    "Xnorm=df3_norm[['NASDAQ','KOSDAQ','Adj Impressions']]\n",
    "\n",
    "#Splitting into test and train again,\n",
    "sizen = float(len(Xnorm))\n",
    "Xnorm_train = Xnorm[0:int(sizen*0.8)]\n",
    "Xnorm_test = Xnorm[int(sizen*0.2):]\n",
    "ynorm_train = ynorm[0:int(sizen*0.8)]\n",
    "ynorm_test = ynorm[int(sizen*0.2):]\n",
    "\n",
    "#Regression\n",
    "regrnorm = LinearRegression()\n",
    "regrnorm.fit(Xnorm_train, ynorm_train)\n",
    "ynorm_pred = regrnorm.predict(Xnorm_test)\n",
    "\n",
    "# The coefficients\n",
    "print('Normalized Coefficients: \\n', regrnorm.coef_)\n",
    "# The mean square error\n",
    "print(\"Normalized Residual sum of squares: %.2f\"\n",
    "      % np.mean((regrnorm.predict(Xnorm_test) - ynorm_test) ** 2))\n",
    "# Explained variance score: 1 is perfect prediction\n",
    "print('Normalized Variance score: %.2f' % regrnorm.score(Xnorm_test, ynorm_test))\n",
    "\n",
    "#coefficients, MSE, and R^2 again \n",
    "print('Normalized Coefficients: \\n', regrnorm.coef_)\n",
    "print(\"Normalized Mean squared error: %.2f\"\n",
    "      % mean_squared_error(ynorm_test, ynorm_pred))\n",
    "#R^2\n",
    "print('Normalized R^2: %.2f' % r2_score(ynorm_test, ynorm_pred))\n",
    "\n",
    "regrnorm.coef_\n",
    "df4_norm = pd.DataFrame({'type':['NASDAQ','KOSDAQ','Adj Impressions'], 'coef':regrnorm.coef_})\n",
    "df4_norm.groupby('type')['coef'].mean().plot(kind='bar')\n",
    "#This now shows NASDAQ as the most important coefficient which is more\n",
    "#accurate because the coefficients were normalized to achieve this"
   ]
  },
  {
   "cell_type": "code",
   "execution_count": 6,
   "metadata": {
    "collapsed": true
   },
   "outputs": [],
   "source": [
    "#normalized features\n",
    "NASnorm=df3_norm['NASDAQ']\n",
    "KOSnorm=df3_norm['KOSDAQ']\n",
    "BTCnorm=df3_norm['BTC']\n",
    "IMPnorm=df3_norm['Adj Impressions']"
   ]
  },
  {
   "cell_type": "code",
   "execution_count": 7,
   "metadata": {},
   "outputs": [
    {
     "data": {
      "text/plain": [
       "Text(0,0.5,'BTC')"
      ]
     },
     "execution_count": 7,
     "metadata": {},
     "output_type": "execute_result"
    },
    {
     "data": {
      "image/png": "[encoded data removed]",
      "text/plain": [
       "<matplotlib.figure.Figure at 0x28e96a02fd0>"
      ]
     },
     "metadata": {},
     "output_type": "display_data"
    }
   ],
   "source": [
    "plt.title('Normalized R^2')\n",
    "plt.scatter(regrnorm.predict(Xnorm_test),ynorm_test)\n",
    "plt.plot(ynorm_test,ynorm_test)\n",
    "plt.xlabel('NASDAQ, KOSDAQ, Adj Impressions')\n",
    "plt.ylabel('BTC')"
   ]
  },
  {
   "cell_type": "code",
   "execution_count": 8,
   "metadata": {
    "collapsed": true
   },
   "outputs": [],
   "source": [
    "#Using k fold cross val\n",
    "# fit a model\n",
    "lm = linear_model.LinearRegression()\n",
    "model = lm.fit(Xnorm_train, ynorm_train)\n",
    "initpredictions = lm.predict(Xnorm_test)"
   ]
  },
  {
   "cell_type": "code",
   "execution_count": 9,
   "metadata": {},
   "outputs": [
    {
     "name": "stdout",
     "output_type": "stream",
     "text": [
      "Score: 0.694821344173\n"
     ]
    },
    {
     "data": {
      "image/png": "[encoded data removed]",
      "text/plain": [
       "<matplotlib.figure.Figure at 0x28e96a81ef0>"
      ]
     },
     "metadata": {},
     "output_type": "display_data"
    }
   ],
   "source": [
    "plt.scatter(ynorm_test, initpredictions)\n",
    "plt.xlabel('True Values')\n",
    "plt.ylabel('Predictions')\n",
    "print ('Score:', model.score(Xnorm_test, ynorm_test))"
   ]
  },
  {
   "cell_type": "code",
   "execution_count": 10,
   "metadata": {},
   "outputs": [
    {
     "name": "stdout",
     "output_type": "stream",
     "text": [
      "Cross-validated scores: [-7.86204781 -0.94376622  0.84837732 -0.43481703 -1.54267713]\n"
     ]
    }
   ],
   "source": [
    "from sklearn.model_selection import KFold # import KFold\n",
    "from sklearn.cross_validation import cross_val_score, cross_val_predict\n",
    "from sklearn import metrics\n",
    "# Perform 5-fold cross validation\n",
    "kfoldscores = cross_val_score(model, Xnorm, ynorm, cv=5)\n",
    "print('Cross-validated scores:', kfoldscores)"
   ]
  },
  {
   "cell_type": "code",
   "execution_count": 11,
   "metadata": {},
   "outputs": [
    {
     "data": {
      "image/png": "[encoded data removed]",
      "text/plain": [
       "<matplotlib.figure.Figure at 0x28e96699860>"
      ]
     },
     "metadata": {},
     "output_type": "display_data"
    }
   ],
   "source": [
    "plt.xlabel('Folds')\n",
    "plt.ylabel('R^2')\n",
    "\n",
    "plt.bar(range(1,6),kfoldscores)\n",
    "plt.show()"
   ]
  },
  {
   "cell_type": "code",
   "execution_count": 12,
   "metadata": {},
   "outputs": [
    {
     "data": {
      "text/plain": [
       "<matplotlib.legend.Legend at 0x28e96f3ab38>"
      ]
     },
     "execution_count": 12,
     "metadata": {},
     "output_type": "execute_result"
    },
    {
     "data": {
      "image/png": "[encoded data removed]",
      "text/plain": [
       "<matplotlib.figure.Figure at 0x28e96e21080>"
      ]
     },
     "metadata": {},
     "output_type": "display_data"
    }
   ],
   "source": [
    "kfoldpredict=cross_val_predict(model,Xnorm,ynorm,cv=5)\n",
    "\n",
    "cross=plt.scatter(ynorm,kfoldpredict)\n",
    "plt.xlabel('True values')\n",
    "plt.ylabel('Predicted Values')\n",
    "#Looking at the two plot\n",
    "\n",
    "nocross=plt.scatter(ynorm_test,initpredictions)\n",
    "plt.title('Cross Validation vs No Cross Validation Predictions')\n",
    "plt.xlabel('True Values')\n",
    "plt.ylabel('Predicted Values')\n",
    "plt.legend((cross, nocross),\n",
    "           ('Cross Validated Predictions', 'No Cross Validation Prediction'),loc='lower right')"
   ]
  },
  {
   "cell_type": "code",
   "execution_count": 13,
   "metadata": {},
   "outputs": [
    {
     "data": {
      "text/html": [
       "<div>\n",
       "<style>\n",
       "    .dataframe thead tr:only-child th {\n",
       "        text-align: right;\n",
       "    }\n",
       "\n",
       "    .dataframe thead th {\n",
       "        text-align: left;\n",
       "    }\n",
       "\n",
       "    .dataframe tbody tr th {\n",
       "        vertical-align: top;\n",
       "    }\n",
       "</style>\n",
       "<table border=\"1\" class=\"dataframe\">\n",
       "  <thead>\n",
       "    <tr style=\"text-align: right;\">\n",
       "      <th></th>\n",
       "      <th>NASDAQ</th>\n",
       "      <th>KOSDAQ</th>\n",
       "      <th>Adj Impressions</th>\n",
       "      <th>BTC</th>\n",
       "    </tr>\n",
       "  </thead>\n",
       "  <tbody>\n",
       "    <tr>\n",
       "      <th>0</th>\n",
       "      <td>-0.391571</td>\n",
       "      <td>-0.353936</td>\n",
       "      <td>-0.138001</td>\n",
       "      <td>-0.308472</td>\n",
       "    </tr>\n",
       "    <tr>\n",
       "      <th>1</th>\n",
       "      <td>-0.374831</td>\n",
       "      <td>-0.356312</td>\n",
       "      <td>-0.124534</td>\n",
       "      <td>-0.301689</td>\n",
       "    </tr>\n",
       "    <tr>\n",
       "      <th>2</th>\n",
       "      <td>-0.383138</td>\n",
       "      <td>-0.339897</td>\n",
       "      <td>-0.119147</td>\n",
       "      <td>-0.298768</td>\n",
       "    </tr>\n",
       "    <tr>\n",
       "      <th>3</th>\n",
       "      <td>-0.379840</td>\n",
       "      <td>-0.352784</td>\n",
       "      <td>-0.100293</td>\n",
       "      <td>-0.306296</td>\n",
       "    </tr>\n",
       "    <tr>\n",
       "      <th>4</th>\n",
       "      <td>-0.361769</td>\n",
       "      <td>-0.347277</td>\n",
       "      <td>-0.073359</td>\n",
       "      <td>-0.305118</td>\n",
       "    </tr>\n",
       "  </tbody>\n",
       "</table>\n",
       "</div>"
      ],
      "text/plain": [
       "     NASDAQ    KOSDAQ  Adj Impressions       BTC\n",
       "0 -0.391571 -0.353936        -0.138001 -0.308472\n",
       "1 -0.374831 -0.356312        -0.124534 -0.301689\n",
       "2 -0.383138 -0.339897        -0.119147 -0.298768\n",
       "3 -0.379840 -0.352784        -0.100293 -0.306296\n",
       "4 -0.361769 -0.347277        -0.073359 -0.305118"
      ]
     },
     "execution_count": 13,
     "metadata": {},
     "output_type": "execute_result"
    }
   ],
   "source": [
    "#Random Forest\n",
    "# Using Skicit-learn to split data into training and testing sets\n",
    "#setting y to be the y variable in the dataframe\n",
    "yrf=df3_norm['BTC']\n",
    "\n",
    "#setting X to be all other features\n",
    "Xrf=df3_norm.drop(['BTC'], axis=1)\n",
    "#size of X and y\n",
    "size=235\n",
    "\n",
    "#splitting features\n",
    "Xrf_train, Xrf_test, yrf_train, yrf_test = train_test_split( Xrf, yrf, test_size=0.2, random_state=42)\n",
    "#\n",
    "df3_norm.head()"
   ]
  },
  {
   "cell_type": "code",
   "execution_count": 14,
   "metadata": {},
   "outputs": [
    {
     "name": "stdout",
     "output_type": "stream",
     "text": [
      "Average Bitcoin Price: 6982.563829787233\n",
      "Average Normalized Bitcoin Price: 7.653452339969164e-17\n",
      "Average normalized baseline error:  0.2\n"
     ]
    }
   ],
   "source": [
    "BTCmean=np.mean(BTC)\n",
    "BTCnormmean=np.mean(BTCnorm)\n",
    "print('Average Bitcoin Price:', BTCmean)\n",
    "print('Average Normalized Bitcoin Price:',BTCnormmean)\n",
    "#note these are two different averages because one is for the normalized data\n",
    "# The baseline prediction is the average price\n",
    "\n",
    "#baseline_errors = abs(BTCmean - yrf_test)\n",
    "baseline_norm_errors=abs(BTCnormmean-yrf_test)\n",
    "#print('Average baseline error: ', round(np.mean(baseline_errors), 2))\n",
    "print('Average normalized baseline error: ', round(np.mean(baseline_norm_errors), 2))"
   ]
  },
  {
   "cell_type": "code",
   "execution_count": 15,
   "metadata": {
    "collapsed": true
   },
   "outputs": [],
   "source": [
    "# Import the model we are using\n",
    "from sklearn.ensemble import RandomForestRegressor\n",
    "# Instantiate model with 1000 decision trees\n",
    "rf = RandomForestRegressor(n_estimators = 1000, random_state = 42)\n",
    "# Train the model on training data\n",
    "rf.fit(Xrf_train, yrf_train);"
   ]
  },
  {
   "cell_type": "code",
   "execution_count": 16,
   "metadata": {},
   "outputs": [
    {
     "name": "stdout",
     "output_type": "stream",
     "text": [
      "Mean Absolute Error: 0.04\n"
     ]
    }
   ],
   "source": [
    "rf_predictions=rf.predict(Xrf_test)\n",
    "\n",
    "#calculating the error\n",
    "rf_error=abs(rf_predictions-yrf_test)\n",
    "\n",
    "# Print out the mean absolute error (mae)\n",
    "print('Mean Absolute Error:', round(np.mean(rf_error), 2))\n"
   ]
  },
  {
   "cell_type": "code",
   "execution_count": 17,
   "metadata": {},
   "outputs": [
    {
     "name": "stdout",
     "output_type": "stream",
     "text": [
      "Accuracy: 79.46 %.\n"
     ]
    }
   ],
   "source": [
    "# Calculate mean absolute percentage error (MAPE)\n",
    "mape = 100 * (rf_error / yrf_test)\n",
    "# Calculate and display accuracy\n",
    "accuracy = 100 - np.mean(mape)\n",
    "print('Accuracy:', round(accuracy, 2), '%.')"
   ]
  },
  {
   "cell_type": "code",
   "execution_count": 18,
   "metadata": {},
   "outputs": [
    {
     "name": "stdout",
     "output_type": "stream",
     "text": [
      "Test Data R^2 Score: 0.94490520876\n"
     ]
    }
   ],
   "source": [
    "from sklearn.metrics import r2_score\n",
    "rf_predicted_train=rf.predict(Xrf_train)\n",
    "rf_predicted_test=rf.predict(Xrf_test)\n",
    "\n",
    "rf_test_score=r2_score(yrf_test, rf_predicted_test)\n",
    "\n",
    "print('Test Data R^2 Score:', rf_test_score)"
   ]
  },
  {
   "cell_type": "code",
   "execution_count": 19,
   "metadata": {},
   "outputs": [
    {
     "data": {
      "image/png": "[encoded data removed]",
      "text/plain": [
       "<matplotlib.figure.Figure at 0x28e96e7c0b8>"
      ]
     },
     "metadata": {},
     "output_type": "display_data"
    }
   ],
   "source": [
    "plt.scatter(yrf_test, rf_predicted_test)\n",
    "#plt.plot(np.arange(8, 15), np.arange(8, 15), label=\"r^2=\" + str(r2), c=\"r\")\n",
    "#plt.legend(loc=\"lower right\")\n",
    "#plt.title(\"RandomForest Regression with scikit-learn\")\n",
    "#plt.show\n",
    "plt.plot(np.arange(-0.5, 1.5), np.arange(-0.5, 1.5), label='r^2=' + str(rf_test_score), c=\"r\")\n",
    "plt.legend(loc=\"lower right\")\n",
    "plt.title(\"RandomForest Regression with scikit-learn\")\n",
    "plt.show()"
   ]
  },
  {
   "cell_type": "code",
   "execution_count": 26,
   "metadata": {},
   "outputs": [
    {
     "data": {
      "text/html": [
       "<div>\n",
       "<style>\n",
       "    .dataframe thead tr:only-child th {\n",
       "        text-align: right;\n",
       "    }\n",
       "\n",
       "    .dataframe thead th {\n",
       "        text-align: left;\n",
       "    }\n",
       "\n",
       "    .dataframe tbody tr th {\n",
       "        vertical-align: top;\n",
       "    }\n",
       "</style>\n",
       "<table border=\"1\" class=\"dataframe\">\n",
       "  <thead>\n",
       "    <tr style=\"text-align: right;\">\n",
       "      <th></th>\n",
       "      <th>NASDAQ</th>\n",
       "      <th>KOSDAQ</th>\n",
       "      <th>Adj Impressions</th>\n",
       "      <th>BTC</th>\n",
       "    </tr>\n",
       "  </thead>\n",
       "  <tbody>\n",
       "    <tr>\n",
       "      <th>0</th>\n",
       "      <td>-0.391571</td>\n",
       "      <td>-0.353936</td>\n",
       "      <td>-0.138001</td>\n",
       "      <td>-0.308472</td>\n",
       "    </tr>\n",
       "    <tr>\n",
       "      <th>1</th>\n",
       "      <td>-0.374831</td>\n",
       "      <td>-0.356312</td>\n",
       "      <td>-0.124534</td>\n",
       "      <td>-0.301689</td>\n",
       "    </tr>\n",
       "    <tr>\n",
       "      <th>2</th>\n",
       "      <td>-0.383138</td>\n",
       "      <td>-0.339897</td>\n",
       "      <td>-0.119147</td>\n",
       "      <td>-0.298768</td>\n",
       "    </tr>\n",
       "    <tr>\n",
       "      <th>3</th>\n",
       "      <td>-0.379840</td>\n",
       "      <td>-0.352784</td>\n",
       "      <td>-0.100293</td>\n",
       "      <td>-0.306296</td>\n",
       "    </tr>\n",
       "    <tr>\n",
       "      <th>4</th>\n",
       "      <td>-0.361769</td>\n",
       "      <td>-0.347277</td>\n",
       "      <td>-0.073359</td>\n",
       "      <td>-0.305118</td>\n",
       "    </tr>\n",
       "  </tbody>\n",
       "</table>\n",
       "</div>"
      ],
      "text/plain": [
       "     NASDAQ    KOSDAQ  Adj Impressions       BTC\n",
       "0 -0.391571 -0.353936        -0.138001 -0.308472\n",
       "1 -0.374831 -0.356312        -0.124534 -0.301689\n",
       "2 -0.383138 -0.339897        -0.119147 -0.298768\n",
       "3 -0.379840 -0.352784        -0.100293 -0.306296\n",
       "4 -0.361769 -0.347277        -0.073359 -0.305118"
      ]
     },
     "execution_count": 26,
     "metadata": {},
     "output_type": "execute_result"
    }
   ],
   "source": [
    "#So we have 2 models to use RF and linear\n",
    "#Rf model is rf.predict\n",
    "#linear model is lm.predict\n",
    "df3_norm.head()"
   ]
  },
  {
   "cell_type": "code",
   "execution_count": 27,
   "metadata": {
    "collapsed": true
   },
   "outputs": [],
   "source": [
    "#saving models as pickes\n",
    "#Saving rf model\n",
    "import pickle\n",
    "with open('RFregression.pkl', 'wb') as fid:\n",
    "    pickle.dump(rf, fid,2) \n",
    "#creating feature vector and convert user input into dummy var    \n",
    "#Create a Dataframe with only the dummy variables\n",
    "user_rf = df3_norm.drop('BTC',axis=1)\n",
    "index_dict = dict(zip(user_rf.columns,range(user_rf.shape[1])))\n",
    "\n",
    "with open('user_rf', 'wb') as fid:\n",
    "    pickle.dump(index_dict, fid,2)  "
   ]
  },
  {
   "cell_type": "code",
   "execution_count": 28,
   "metadata": {
    "collapsed": true
   },
   "outputs": [],
   "source": [
    "import pickle\n",
    "with open('LINregression.pkl', 'wb') as fid:\n",
    "    pickle.dump(model, fid,2) \n",
    "#creating feature vector and convert user input into dummy var    \n",
    "#Create a Dataframe with only the dummy variables\n",
    "user_lin = df3_norm.drop('BTC',axis=1)\n",
    "index_dict2 = dict(zip(user_lin.columns,range(user_lin.shape[1])))\n",
    "\n",
    "with open('user_lin', 'wb') as fid:\n",
    "    pickle.dump(index_dict2, fid,2)  "
   ]
  },
  {
   "cell_type": "code",
   "execution_count": null,
   "metadata": {
    "collapsed": true
   },
   "outputs": [],
   "source": []
  }
 ],
 "metadata": {
  "kernelspec": {
   "display_name": "Python 3",
   "language": "python",
   "name": "python3"
  },
  "language_info": {
   "codemirror_mode": {
    "name": "ipython",
    "version": 3
   },
   "file_extension": ".py",
   "mimetype": "text/x-python",
   "name": "python",
   "nbconvert_exporter": "python",
   "pygments_lexer": "ipython3",
   "version": "3.6.3"
  }
 },
 "nbformat": 4,
 "nbformat_minor": 2
}
