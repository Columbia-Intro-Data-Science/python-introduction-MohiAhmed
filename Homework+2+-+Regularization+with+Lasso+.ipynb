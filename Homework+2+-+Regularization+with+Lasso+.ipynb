{
 "cells": [
  {
   "cell_type": "markdown",
   "metadata": {},
   "source": [
    "# Introduction\n",
    "\n",
    "\n",
    "In this homework, you'll be required to load in a dataset which has about 500 features. By using\n",
    "Lasso ($L^1$) regression, we'll find the optimal constraint on the $L^1$ norm which gives us the best\n",
    "$R^2$. Then we'll plot the results.\n",
    "\n",
    "Recall we minimize the following on ** training data: $(x_i,y_i)$**\n",
    "\n",
    "$$\\min_{\\beta} \\frac{1}{N} \\sum_{i=1}^N (y_i - \\beta \\cdot x_i)^2 + \\lambda \\|\\beta \\|_{L^1}.$$\n",
    "\n",
    "\n",
    "Denoting $\\beta_{\\lambda}$ as the minimum of the above, we then choose $\\lambda$ to maximize $R^2$ on **testing data: $(x_j,y_j)$**\n",
    "\n",
    "$$ \\max_{\\lambda} 1 - \\frac{\\sum_{j} (y_j - \\beta_{\\lambda} \\cdot x_j)^2}{\\sum_j (y_j - \\bar y)^2}$$\n"
   ]
  },
  {
   "cell_type": "markdown",
   "metadata": {},
   "source": [
    "# Lasso Regularization"
   ]
  },
  {
   "cell_type": "markdown",
   "metadata": {},
   "source": [
    "## Problem 1"
   ]
  },
  {
   "cell_type": "markdown",
   "metadata": {},
   "source": [
    "a) Load in hw2data.csv from ../data into a pandas dataframe."
   ]
  },
  {
   "cell_type": "markdown",
   "metadata": {},
   "source": [
    "b) Set y to be the y variable in the dataframe from a and X to be the remaining features."
   ]
  },
  {
   "cell_type": "markdown",
   "metadata": {},
   "source": [
    "c) As shown in the Booking.com example, using Lasso regression, find the regularization strength\n",
    "which optimizes the $R^2$. \n",
    "\n",
    "**Hint:** Take a range of alpha from `np.logspace(-8,-3,1000)`"
   ]
  },
  {
   "cell_type": "markdown",
   "metadata": {},
   "source": [
    "d) Plot the training perforamnce versus the testing performance, and observe whree the test performance is\n",
    "maximized. I've written an outline of the code you need."
   ]
  },
  {
   "cell_type": "code",
   "execution_count": 25,
   "metadata": {},
   "outputs": [
    {
     "name": "stdout",
     "output_type": "stream",
     "text": [
      "Coefficients: \n",
      " [  1.73010708e+00   3.76715965e-01   9.44969469e-01   2.23771633e+00\n",
      "   1.84048838e+00  -9.45890271e-01   9.09843690e-01  -1.35191389e-01\n",
      "  -8.87978488e-02   4.02946694e-01   1.58887653e-01   1.42988657e+00\n",
      "   7.19391760e-01   1.11818592e-01   4.20823066e-01   3.20790457e-01\n",
      "   1.47518202e+00  -2.03204402e-01   2.72613014e-01  -8.28248854e-01\n",
      "  -2.55585799e+00   6.38347359e-01   8.64929781e-01  -6.97358425e-01\n",
      "   2.21102864e+00  -1.41199306e+00   4.03031601e-04  -1.53240988e-01\n",
      "   1.52809085e+00   1.38848453e+00   1.54428539e-01   3.50411184e-01\n",
      "  -8.41699643e-01  -1.99067763e+00  -2.82816462e-01   1.38975298e-01\n",
      "   1.18812688e+00   1.18006876e+00  -3.63686523e-01  -2.81024222e-01\n",
      "  -1.00488303e+00  -1.39344463e+00  -1.66753203e+00   1.97555305e+00\n",
      "  -4.86520132e-01  -3.91853377e-01  -1.20953729e+00   7.44022096e-01\n",
      "  -1.61640329e+00  -1.85639486e-01  -0.00000000e+00  -0.00000000e+00\n",
      "  -0.00000000e+00  -1.08109414e-02   0.00000000e+00   0.00000000e+00\n",
      "   0.00000000e+00   7.53506357e-03   9.22047430e-03   0.00000000e+00\n",
      "   1.87683663e-03   0.00000000e+00  -0.00000000e+00  -0.00000000e+00\n",
      "  -0.00000000e+00  -0.00000000e+00   0.00000000e+00  -0.00000000e+00\n",
      "  -0.00000000e+00  -0.00000000e+00  -0.00000000e+00  -0.00000000e+00\n",
      "   0.00000000e+00   0.00000000e+00   0.00000000e+00  -2.67688334e-03\n",
      "  -0.00000000e+00  -0.00000000e+00  -0.00000000e+00  -0.00000000e+00\n",
      "   0.00000000e+00  -0.00000000e+00  -0.00000000e+00   8.51633205e-04\n",
      "  -0.00000000e+00  -2.39093720e-03  -0.00000000e+00   0.00000000e+00\n",
      "  -0.00000000e+00   0.00000000e+00   0.00000000e+00  -1.06839546e-02\n",
      "   0.00000000e+00   0.00000000e+00   1.80696745e-02   0.00000000e+00\n",
      "  -0.00000000e+00   0.00000000e+00   4.60782211e-03   0.00000000e+00\n",
      "   0.00000000e+00   0.00000000e+00   0.00000000e+00   0.00000000e+00\n",
      "   3.87099975e-03  -0.00000000e+00   0.00000000e+00   0.00000000e+00\n",
      "   0.00000000e+00   0.00000000e+00  -0.00000000e+00  -0.00000000e+00\n",
      "  -0.00000000e+00  -0.00000000e+00   0.00000000e+00   0.00000000e+00\n",
      "   0.00000000e+00  -0.00000000e+00   0.00000000e+00   0.00000000e+00\n",
      "   0.00000000e+00   0.00000000e+00  -0.00000000e+00   0.00000000e+00\n",
      "  -0.00000000e+00   0.00000000e+00  -0.00000000e+00  -0.00000000e+00\n",
      "   0.00000000e+00  -2.98663505e-04  -0.00000000e+00  -0.00000000e+00\n",
      "  -0.00000000e+00   0.00000000e+00   0.00000000e+00  -7.76641710e-04\n",
      "   0.00000000e+00   0.00000000e+00  -0.00000000e+00  -0.00000000e+00\n",
      "   0.00000000e+00  -0.00000000e+00  -0.00000000e+00  -0.00000000e+00\n",
      "  -0.00000000e+00   0.00000000e+00   0.00000000e+00  -0.00000000e+00\n",
      "  -0.00000000e+00   0.00000000e+00  -0.00000000e+00   0.00000000e+00\n",
      "   0.00000000e+00   0.00000000e+00   7.44132071e-03   0.00000000e+00\n",
      "   0.00000000e+00   0.00000000e+00   0.00000000e+00  -0.00000000e+00\n",
      "   0.00000000e+00   0.00000000e+00  -0.00000000e+00   0.00000000e+00\n",
      "  -0.00000000e+00   0.00000000e+00   0.00000000e+00  -0.00000000e+00\n",
      "  -0.00000000e+00  -0.00000000e+00  -6.10390735e-03  -0.00000000e+00\n",
      "   0.00000000e+00  -0.00000000e+00  -6.91987235e-04  -0.00000000e+00\n",
      "   0.00000000e+00  -0.00000000e+00  -0.00000000e+00   0.00000000e+00\n",
      "   0.00000000e+00   0.00000000e+00  -0.00000000e+00  -0.00000000e+00\n",
      "  -0.00000000e+00   1.19602102e-02  -0.00000000e+00   0.00000000e+00\n",
      "   0.00000000e+00   0.00000000e+00  -0.00000000e+00  -0.00000000e+00\n",
      "   0.00000000e+00  -0.00000000e+00   0.00000000e+00   0.00000000e+00\n",
      "  -0.00000000e+00   0.00000000e+00  -8.78566794e-03  -0.00000000e+00\n",
      "  -0.00000000e+00  -0.00000000e+00  -1.51149180e-03   0.00000000e+00\n",
      "   0.00000000e+00  -0.00000000e+00   0.00000000e+00  -0.00000000e+00\n",
      "   0.00000000e+00   0.00000000e+00   0.00000000e+00   0.00000000e+00\n",
      "  -0.00000000e+00  -1.12892731e-02   8.90813729e-04  -0.00000000e+00\n",
      "   0.00000000e+00  -0.00000000e+00  -0.00000000e+00  -0.00000000e+00\n",
      "   0.00000000e+00   0.00000000e+00   0.00000000e+00  -0.00000000e+00\n",
      "   0.00000000e+00  -0.00000000e+00   0.00000000e+00   0.00000000e+00\n",
      "   2.26032442e-03   0.00000000e+00   0.00000000e+00   0.00000000e+00\n",
      "  -0.00000000e+00  -0.00000000e+00  -5.41720756e-04  -0.00000000e+00\n",
      "   0.00000000e+00  -1.23784295e-03   1.42718629e-02   0.00000000e+00\n",
      "   0.00000000e+00  -0.00000000e+00  -0.00000000e+00   0.00000000e+00\n",
      "   1.95260052e-02   0.00000000e+00   0.00000000e+00   1.57513687e-02\n",
      "  -0.00000000e+00   0.00000000e+00   0.00000000e+00   0.00000000e+00\n",
      "   1.43748053e-02  -0.00000000e+00  -0.00000000e+00  -0.00000000e+00\n",
      "  -9.50504233e-03   0.00000000e+00   0.00000000e+00   0.00000000e+00\n",
      "  -0.00000000e+00  -0.00000000e+00  -0.00000000e+00   0.00000000e+00\n",
      "   0.00000000e+00  -0.00000000e+00  -0.00000000e+00   0.00000000e+00\n",
      "  -0.00000000e+00   0.00000000e+00   0.00000000e+00   0.00000000e+00\n",
      "  -0.00000000e+00   0.00000000e+00   0.00000000e+00   0.00000000e+00\n",
      "  -0.00000000e+00   0.00000000e+00   0.00000000e+00   0.00000000e+00\n",
      "   0.00000000e+00  -3.15986179e-03   0.00000000e+00   0.00000000e+00\n",
      "   0.00000000e+00  -0.00000000e+00   0.00000000e+00   0.00000000e+00\n",
      "  -0.00000000e+00   0.00000000e+00  -0.00000000e+00  -0.00000000e+00\n",
      "   0.00000000e+00  -0.00000000e+00  -0.00000000e+00   0.00000000e+00\n",
      "  -7.17200679e-03  -0.00000000e+00  -0.00000000e+00   0.00000000e+00\n",
      "   0.00000000e+00   0.00000000e+00  -0.00000000e+00  -0.00000000e+00\n",
      "   0.00000000e+00  -0.00000000e+00   2.01133890e-02   0.00000000e+00\n",
      "  -0.00000000e+00  -0.00000000e+00  -0.00000000e+00  -0.00000000e+00\n",
      "  -0.00000000e+00   0.00000000e+00  -0.00000000e+00  -0.00000000e+00\n",
      "  -1.10780093e-02   2.87035595e-02  -0.00000000e+00   2.13450928e-03\n",
      "   0.00000000e+00  -0.00000000e+00   0.00000000e+00   0.00000000e+00\n",
      "  -0.00000000e+00   1.86369911e-02  -0.00000000e+00  -0.00000000e+00\n",
      "   0.00000000e+00   0.00000000e+00  -0.00000000e+00   0.00000000e+00\n",
      "  -0.00000000e+00  -0.00000000e+00  -1.14834524e-02  -0.00000000e+00\n",
      "  -0.00000000e+00  -1.28819224e-02   0.00000000e+00  -0.00000000e+00\n",
      "   0.00000000e+00   0.00000000e+00  -0.00000000e+00  -0.00000000e+00\n",
      "   0.00000000e+00   0.00000000e+00  -0.00000000e+00   0.00000000e+00\n",
      "  -3.03876746e-02  -0.00000000e+00  -0.00000000e+00   0.00000000e+00\n",
      "  -0.00000000e+00  -0.00000000e+00   0.00000000e+00  -0.00000000e+00\n",
      "   0.00000000e+00  -0.00000000e+00   0.00000000e+00   0.00000000e+00\n",
      "  -0.00000000e+00   7.97982277e-03  -0.00000000e+00  -0.00000000e+00\n",
      "   0.00000000e+00  -0.00000000e+00  -0.00000000e+00   0.00000000e+00\n",
      "  -0.00000000e+00   9.81044601e-03   0.00000000e+00   6.05304970e-03\n",
      "  -0.00000000e+00  -0.00000000e+00   0.00000000e+00  -0.00000000e+00\n",
      "  -0.00000000e+00   0.00000000e+00  -0.00000000e+00  -0.00000000e+00\n",
      "   0.00000000e+00  -0.00000000e+00  -5.06727614e-03  -0.00000000e+00\n",
      "   0.00000000e+00  -0.00000000e+00   7.23678216e-03   0.00000000e+00\n",
      "  -0.00000000e+00   0.00000000e+00   0.00000000e+00   0.00000000e+00\n",
      "  -0.00000000e+00   0.00000000e+00  -0.00000000e+00  -0.00000000e+00\n",
      "   0.00000000e+00  -0.00000000e+00  -0.00000000e+00  -0.00000000e+00\n",
      "  -0.00000000e+00   0.00000000e+00  -0.00000000e+00   0.00000000e+00\n",
      "   0.00000000e+00  -0.00000000e+00   0.00000000e+00  -0.00000000e+00\n",
      "   0.00000000e+00  -0.00000000e+00  -0.00000000e+00   0.00000000e+00\n",
      "   0.00000000e+00  -0.00000000e+00  -0.00000000e+00  -0.00000000e+00\n",
      "   0.00000000e+00   0.00000000e+00  -0.00000000e+00   0.00000000e+00\n",
      "  -0.00000000e+00   0.00000000e+00   0.00000000e+00  -0.00000000e+00\n",
      "   0.00000000e+00  -0.00000000e+00   0.00000000e+00   0.00000000e+00\n",
      "   0.00000000e+00   0.00000000e+00  -0.00000000e+00  -0.00000000e+00\n",
      "   3.33276259e-03   0.00000000e+00  -2.01560040e-03   0.00000000e+00\n",
      "  -0.00000000e+00  -0.00000000e+00  -0.00000000e+00  -0.00000000e+00\n",
      "  -0.00000000e+00   0.00000000e+00  -0.00000000e+00   0.00000000e+00\n",
      "  -0.00000000e+00  -0.00000000e+00   0.00000000e+00   0.00000000e+00\n",
      "   0.00000000e+00   0.00000000e+00  -0.00000000e+00  -0.00000000e+00\n",
      "  -0.00000000e+00  -0.00000000e+00   0.00000000e+00   0.00000000e+00\n",
      "  -0.00000000e+00   0.00000000e+00  -0.00000000e+00  -0.00000000e+00\n",
      "  -0.00000000e+00  -0.00000000e+00  -0.00000000e+00  -0.00000000e+00\n",
      "  -0.00000000e+00   0.00000000e+00   0.00000000e+00  -0.00000000e+00\n",
      "  -0.00000000e+00  -0.00000000e+00   0.00000000e+00   0.00000000e+00\n",
      "  -0.00000000e+00  -0.00000000e+00   0.00000000e+00  -0.00000000e+00\n",
      "   0.00000000e+00   0.00000000e+00  -0.00000000e+00  -0.00000000e+00\n",
      "  -0.00000000e+00   0.00000000e+00  -0.00000000e+00  -0.00000000e+00\n",
      "  -0.00000000e+00   0.00000000e+00   0.00000000e+00   0.00000000e+00\n",
      "  -0.00000000e+00   0.00000000e+00   0.00000000e+00  -0.00000000e+00\n",
      "  -0.00000000e+00   0.00000000e+00  -0.00000000e+00  -0.00000000e+00\n",
      "  -0.00000000e+00   0.00000000e+00  -0.00000000e+00   0.00000000e+00]\n",
      "Mean squared error: 0.08\n",
      "R^2 score: 1.00\n"
     ]
    },
    {
     "data": {
      "image/png": "[encoded data removed]",
      "text/plain": [
       "<matplotlib.figure.Figure at 0x2a607b34908>"
      ]
     },
     "metadata": {},
     "output_type": "display_data"
    }
   ],
   "source": [
    "import matplotlib.pyplot as plt\n",
    "import numpy as np\n",
    "#matplotlib inline\n",
    "import pandas as pd\n",
    "from sklearn import datasets, linear_model\n",
    "from sklearn.metrics import mean_squared_error, r2_score\n",
    "df1=pd.read_csv(\"/Users/tuleg/Documents/APMAE4990-/data/hw2data.csv\")\n",
    "\n",
    "#setting y to be the y variable in the dataframe\n",
    "y=df1['y']\n",
    "\n",
    "#setting X to be all other features\n",
    "X=df1.drop(['y'], axis=1)\n",
    "#size of X and y\n",
    "size=224\n",
    "\n",
    "#splitting features\n",
    "X_train = X[0:int(size*0.8)]\n",
    "X_test = X[int(size*0.8):]\n",
    "\n",
    "#note y and x have same size (both from df1)\n",
    "y_train = y[0:int(size*0.8)]\n",
    "y_test = y[int(size*0.8):]\n",
    "\n",
    "#\n",
    "#plt.subplot(2, 1, 1)\n",
    "\n",
    "# Fill these in\n",
    "alphas = np.logspace(-8,-3,1000)\n",
    "from sklearn.linear_model import Lasso\n",
    "scores = []\n",
    "\n",
    "for alpha in alphas:\n",
    "        regr = Lasso(alpha=alpha, max_iter=1500,\n",
    "   normalize=True)\n",
    "        \n",
    "        #train the model with training data\n",
    "        regr.fit(X_train, y_train)\n",
    "        scores.append(regr.score(X_test,y_test))\n",
    "        \n",
    "plt.plot(alphas,scores)\n",
    "\n",
    "#train_errors=[]\n",
    "#test_errors=[]\n",
    "\n",
    "\n",
    "alpha_optim=0\n",
    "\n",
    "\n",
    "\n",
    "#plt.semilogx(alphas, train_errors, label='Train')\n",
    "#plt.semilogx(alphas, test_errors, label='Test')\n",
    "#plt.vlines(alpha_optim, plt.ylim()[0], np.max(test_errors), color='k',\n",
    "#           linewidth=3, label='Optimum on test')\n",
    "#plt.legend(loc='lower left')\n",
    "#plt.ylim([0, 1.2])\n",
    "#plt.xlabel('Regularization parameter')\n",
    "#plt.ylabel('Performance')\n",
    "Ypred = regr.predict(X_test)\n",
    "print('Coefficients: \\n', regr.coef_)\n",
    "\n",
    "print(\"Mean squared error: %.2f\"\n",
    "      % mean_squared_error(y_test, Ypred))\n",
    "#R^2 score\n",
    "print('R^2 score: %.2f' % r2_score(y_test, Ypred))\n",
    "\n",
    "plt.show()\n"
   ]
  },
  {
   "cell_type": "markdown",
   "metadata": {},
   "source": [
    "e) Plot the top coefficients based on this optimal paramter. Why do you think so many are zero? "
   ]
  },
  {
   "cell_type": "markdown",
   "metadata": {},
   "source": [
    "f) Compute the $R^2$ with the optimal coefficient found above on 5 folds using cross_val_score and plot the\n",
    "results. Does the model work well on all random subsets?"
   ]
  },
  {
   "cell_type": "markdown",
   "metadata": {},
   "source": [
    "f) Repeat e) but using cross validation. Use error bars on the features which are the standard deviation of the \n",
    "coefficiens obtained above. For this problem I\"ll walk you through the code. You just need to apply your optimal\n",
    "$\\alpha$ found above. "
   ]
  },
  {
   "cell_type": "code",
   "execution_count": null,
   "metadata": {
    "collapsed": true
   },
   "outputs": [],
   "source": [
    "from sklearn.cross_validation import KFold\n",
    "from sklearn import preprocessing\n",
    "def run_cv_coeffs(X,y,clf_class,**kwargs):\n",
    "    # Construct a kfolds object\n",
    "    kf = KFold(len(y),n_folds=5,shuffle=True)\n",
    "    y_pred = y.copy()\n",
    "    coeffs=[]\n",
    "    # Iterate through folds\n",
    "    for train_index, test_index in kf:\n",
    "        \n",
    "        X_train, X_test = X[train_index], X[test_index]\n",
    "        y_train = y[train_index]\n",
    "        # Initialize a classifier with key word arguments\n",
    "        clf = clf_class(**kwargs)\n",
    "        clf.fit(X_train,y_train)\n",
    "        y_pred[test_index] = clf.predict(X_test)\n",
    "        coeffs.append(clf.coef_)\n",
    "    return coeffs\n",
    "\n",
    "\n",
    "\n",
    "scaler = preprocessing.StandardScaler()\n",
    "X_scaled = X.as_matrix().astype(np.float)\n",
    "X_scaled = scaler.fit_transform(X)\n",
    "\n",
    "coeffs=run_cv_coeffs(X_scaled,np.array(y),Lasso,alpha=alpha_best)"
   ]
  },
  {
   "cell_type": "code",
   "execution_count": 473,
   "metadata": {
    "collapsed": true
   },
   "outputs": [],
   "source": [
    "def get_coeffs(coeffs):\n",
    "    coeffs_avgd = [(coeffs[0][i] + coeffs[1][i] + coeffs[2][i] + coeffs[3][i] + coeffs[4][i])/5 for i in range(0,len(X.columns))]\n",
    "    coeffs_std = [np.std([coeffs[0][i],coeffs[1][i],coeffs[2][i],coeffs[3][i],coeffs[4][i]]) for i in range(0,len(X.columns))]\n",
    "    return coeffs_avgd, coeffs_std\n",
    "coeffs_avg,coeffs_std=get_coeffs(coeffs)"
   ]
  },
  {
   "cell_type": "code",
   "execution_count": 479,
   "metadata": {},
   "outputs": [
    {
     "data": {
      "text/plain": [
       "<matplotlib.figure.Figure at 0x16ef6d090>"
      ]
     },
     "metadata": {},
     "output_type": "display_data"
    }
   ],
   "source": [
    "dfCoeffs = pd.DataFrame({'type':X.columns.values, 'coef':coeffs_avg, 'std':coeffs_std})\n",
    "dfCoeffs = dfCoeffs[(dfCoeffs['coef']>1) |(dfCoeffs['coef']<-1) ]\n",
    "plt.figure(figsize=(15,15))\n",
    "dfCoeffs_sorted = dfCoeffs.sort(['coef'])[::-1]\n",
    "yerr_vals = dfCoeffs_sorted['std'].values\n",
    "dfCoeffs_sorted.plot(x='type',y='coef',kind='bar',yerr=yerr_vals,figsize=(15,15))"
   ]
  }
 ],
 "metadata": {
  "anaconda-cloud": {},
  "kernelspec": {
   "display_name": "Python 3",
   "language": "python",
   "name": "python3"
  },
  "language_info": {
   "codemirror_mode": {
    "name": "ipython",
    "version": 3
   },
   "file_extension": ".py",
   "mimetype": "text/x-python",
   "name": "python",
   "nbconvert_exporter": "python",
   "pygments_lexer": "ipython3",
   "version": "3.6.3"
  }
 },
 "nbformat": 4,
 "nbformat_minor": 1
}
