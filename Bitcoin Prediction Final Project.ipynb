{
 "cells": [
  {
   "cell_type": "markdown",
   "metadata": {},
   "source": [
    "# Summary\n",
    "This code will compare stock market info from the US and Japan to the price of bitcoin and to the \"impressions\" of bitcoin and cryptocurrency on Google trends. For Japan, the Shanghai Stock Exchange (SSE) Composite is used as it is the most comprabable to the NASDAQ. Both of these markets indicate the general \"health\" of the respective country's economy. Regression techniques will be run on the data in order to predict the price of bitcoin on the following day. A webapp http://mohibtc.pythonanywhere.com/ will ask the user for what price they bought their bitcoin at. If the model predicts tomorrow's price to be less than what the user bought bitcoin for, it will instruct them to sell. If the model predict's tomorrow's price to be more than what the user bought bitcoin for, it will instruct them to buy more. Multiple regressions will be used to determine the best model.\n",
    "\n",
    "Closing price of BTC on this exchange is 24:00 PM UTC which is 8:00 EST; opening at 12 UTC\n",
    "NYSE closes at  is 21:00 UTC which is 4PM EST; opens at 14:30 UTC\n",
    "Shanghai stock exchange closes at 7:00 UTC which is 3AM EST; opens at 1:30 UTC\n",
    "With a 12 hour difference, the SSE market has run it's daily course before the NYSE even opens.\n",
    "The two markets are never open at the same time so I will use their listed closing price for a given date.\n",
    "BTC is only tracked for its closing price and acquiring a dataset with all the values of BTC matched up to closing times of the SSE and the NYSE would be extremely difficult for a non-enterprise. So I will stick with BTC closing price of midnight UTC, knowing that this does not match the price of BTC when either market closed, but should still be reasonably correlated.\n",
    "NYSE and SSE were chosen because China makes up the bulk of cryptocurrency trading while the US comes in at 2nd place.\n",
    "\n",
    "\"Chinese yuan to Bitcoin is the most traded daily fiat to Bitcoin pair.\" --https://blogs.thomsonreuters.com/answerson/world-cryptocurrencies-country/\n",
    "\n",
    "US and South Korea are leaders in BTC trading. Japan is the most involved, but their Nikkei 225 market does not line up with the US market because of both the time difference and operating hours (our market is technically open during their weekends) leading to the data being full of holes. The other leader in trading is USDT, which is Tether, another crypto and not reflective of a specific country. So that leaves only the US and South Korea to compare"
   ]
  },
  {
   "cell_type": "code",
   "execution_count": 14,
   "metadata": {
    "scrolled": true
   },
   "outputs": [
    {
     "name": "stdout",
     "output_type": "stream",
     "text": [
      "Requirement already satisfied: pytrends in c:\\users\\tuleg\\anaconda3\\lib\\site-packages\n",
      "Requirement already satisfied: lxml in c:\\users\\tuleg\\anaconda3\\lib\\site-packages (from pytrends)\n",
      "Requirement already satisfied: pandas in c:\\users\\tuleg\\anaconda3\\lib\\site-packages (from pytrends)\n",
      "Requirement already satisfied: requests in c:\\users\\tuleg\\anaconda3\\lib\\site-packages (from pytrends)\n",
      "Requirement already satisfied: python-dateutil>=2 in c:\\users\\tuleg\\anaconda3\\lib\\site-packages (from pandas->pytrends)\n",
      "Requirement already satisfied: pytz>=2011k in c:\\users\\tuleg\\anaconda3\\lib\\site-packages (from pandas->pytrends)\n",
      "Requirement already satisfied: numpy>=1.7.0 in c:\\users\\tuleg\\anaconda3\\lib\\site-packages (from pandas->pytrends)\n",
      "Requirement already satisfied: chardet<3.1.0,>=3.0.2 in c:\\users\\tuleg\\anaconda3\\lib\\site-packages (from requests->pytrends)\n",
      "Requirement already satisfied: idna<2.7,>=2.5 in c:\\users\\tuleg\\anaconda3\\lib\\site-packages (from requests->pytrends)\n",
      "Requirement already satisfied: urllib3<1.23,>=1.21.1 in c:\\users\\tuleg\\anaconda3\\lib\\site-packages (from requests->pytrends)\n",
      "Requirement already satisfied: certifi>=2017.4.17 in c:\\users\\tuleg\\anaconda3\\lib\\site-packages (from requests->pytrends)\n",
      "Requirement already satisfied: six>=1.5 in c:\\users\\tuleg\\anaconda3\\lib\\site-packages (from python-dateutil>=2->pandas->pytrends)\n"
     ]
    },
    {
     "name": "stderr",
     "output_type": "stream",
     "text": [
      "You are using pip version 9.0.1, however version 10.0.1 is available.\n",
      "You should consider upgrading via the 'python -m pip install --upgrade pip' command.\n"
     ]
    }
   ],
   "source": [
    "# read data into a DataFrame and importing all regression related libraries.\n",
    "import pandas as pd\n",
    "import pylab as plt\n",
    "import seaborn\n",
    "from sklearn.linear_model import LinearRegression\n",
    "import numpy.random as nprnd\n",
    "import random\n",
    "import json\n",
    "import statsmodels.api as sm\n",
    "from sklearn.cross_validation import KFold\n",
    "from sklearn.metrics import confusion_matrix\n",
    "from sklearn.preprocessing import StandardScaler\n",
    "from sklearn.linear_model import LogisticRegression\n",
    "from sklearn.metrics import r2_score\n",
    "from sklearn.svm import SVC\n",
    "from sklearn.ensemble import RandomForestClassifier as RF\n",
    "from sklearn.neighbors import KNeighborsClassifier as KNN\n",
    "import numpy as np\n",
    "import matplotlib.pyplot as plt\n",
    "from sklearn.metrics import roc_curve, auc\n",
    "from sklearn.utils import shuffle\n",
    "from sklearn.metrics import roc_curve, auc\n",
    "from sklearn import svm\n",
    "from sklearn.linear_model import LogisticRegression\n",
    "from sklearn.ensemble import RandomForestClassifier\n",
    "import re\n",
    "\n",
    "import sys\n",
    "!{sys.executable} -m pip install pytrends\n",
    "\n",
    "from pytrends.request import TrendReq\n",
    "\n",
    "pytrends = TrendReq(hl='en-US', tz=360)"
   ]
  },
  {
   "cell_type": "code",
   "execution_count": 5,
   "metadata": {},
   "outputs": [
    {
     "data": {
      "text/html": [
       "<div>\n",
       "<style>\n",
       "    .dataframe thead tr:only-child th {\n",
       "        text-align: right;\n",
       "    }\n",
       "\n",
       "    .dataframe thead th {\n",
       "        text-align: left;\n",
       "    }\n",
       "\n",
       "    .dataframe tbody tr th {\n",
       "        vertical-align: top;\n",
       "    }\n",
       "</style>\n",
       "<table border=\"1\" class=\"dataframe\">\n",
       "  <thead>\n",
       "    <tr style=\"text-align: right;\">\n",
       "      <th></th>\n",
       "      <th>Date</th>\n",
       "      <th>Close Price</th>\n",
       "    </tr>\n",
       "  </thead>\n",
       "  <tbody>\n",
       "    <tr>\n",
       "      <th>0</th>\n",
       "      <td>2017-05-07 00:00:00</td>\n",
       "      <td>1555.47</td>\n",
       "    </tr>\n",
       "    <tr>\n",
       "      <th>1</th>\n",
       "      <td>2017-05-08 00:00:00</td>\n",
       "      <td>1639.32</td>\n",
       "    </tr>\n",
       "    <tr>\n",
       "      <th>2</th>\n",
       "      <td>2017-05-09 00:00:00</td>\n",
       "      <td>1706.93</td>\n",
       "    </tr>\n",
       "    <tr>\n",
       "      <th>3</th>\n",
       "      <td>2017-05-10 00:00:00</td>\n",
       "      <td>1756.80</td>\n",
       "    </tr>\n",
       "    <tr>\n",
       "      <th>4</th>\n",
       "      <td>2017-05-11 00:00:00</td>\n",
       "      <td>1807.37</td>\n",
       "    </tr>\n",
       "  </tbody>\n",
       "</table>\n",
       "</div>"
      ],
      "text/plain": [
       "                  Date  Close Price\n",
       "0  2017-05-07 00:00:00      1555.47\n",
       "1  2017-05-08 00:00:00      1639.32\n",
       "2  2017-05-09 00:00:00      1706.93\n",
       "3  2017-05-10 00:00:00      1756.80\n",
       "4  2017-05-11 00:00:00      1807.37"
      ]
     },
     "execution_count": 5,
     "metadata": {},
     "output_type": "execute_result"
    }
   ],
   "source": [
    "\n",
    "#taken from https://www.coindesk.com/price/\n",
    "dfBTC=pd.read_csv(\"/Users/tuleg/Documents/python-introduction-MohiAhmed/coindesk-bpi-USD-close_data-2017-05-07_2018-05-07.csv\")\n",
    "dfBTC.head()\n",
    "#Count_Row=dfBTC.shape[0]\n",
    "len(dfBTC)"
   ]
  },
  {
   "cell_type": "code",
   "execution_count": 7,
   "metadata": {},
   "outputs": [
    {
     "data": {
      "text/plain": [
       "242"
      ]
     },
     "execution_count": 7,
     "metadata": {},
     "output_type": "execute_result"
    }
   ],
   "source": [
    "#taken from https://finance.yahoo.com/quote/%5EKQ11/history?period1=1493870400&period2=1525406400&interval=1d&filter=history&frequency=1d\n",
    "dfSSE=pd.read_csv(\"/Users/tuleg/Documents/python-introduction-MohiAhmed/KOSDAQ3.csv\")\n",
    "dfSSE.head()\n",
    "#need to convert KRW to USD\n",
    "#Count_Row2=dfSSE.shape[0]\n",
    "len(dfSSE)\n"
   ]
  },
  {
   "cell_type": "code",
   "execution_count": 8,
   "metadata": {},
   "outputs": [
    {
     "data": {
      "text/plain": [
       "251"
      ]
     },
     "execution_count": 8,
     "metadata": {},
     "output_type": "execute_result"
    }
   ],
   "source": [
    "dfNAS=pd.read_csv(\"/Users/tuleg/Documents/python-introduction-MohiAhmed/NASDAQ3.csv\")\n",
    "dfNAS.head()\n",
    "#Count_Row3=dfNAS.shape[0]\n",
    "len(dfNAS)"
   ]
  },
  {
   "cell_type": "code",
   "execution_count": 21,
   "metadata": {
    "collapsed": true
   },
   "outputs": [],
   "source": [
    "#Filtered dataset\n",
    "dfdata=pd.read_csv(\"/Users/tuleg/Documents/python-introduction-MohiAhmed/data.csv\")"
   ]
  },
  {
   "cell_type": "code",
   "execution_count": 22,
   "metadata": {},
   "outputs": [
    {
     "data": {
      "text/plain": [
       "235"
      ]
     },
     "execution_count": 22,
     "metadata": {},
     "output_type": "execute_result"
    }
   ],
   "source": [
    "len(dfdata)"
   ]
  },
  {
   "cell_type": "code",
   "execution_count": 23,
   "metadata": {},
   "outputs": [
    {
     "data": {
      "text/html": [
       "<div>\n",
       "<style>\n",
       "    .dataframe thead tr:only-child th {\n",
       "        text-align: right;\n",
       "    }\n",
       "\n",
       "    .dataframe thead th {\n",
       "        text-align: left;\n",
       "    }\n",
       "\n",
       "    .dataframe tbody tr th {\n",
       "        vertical-align: top;\n",
       "    }\n",
       "</style>\n",
       "<table border=\"1\" class=\"dataframe\">\n",
       "  <thead>\n",
       "    <tr style=\"text-align: right;\">\n",
       "      <th></th>\n",
       "      <th>Date</th>\n",
       "      <th>NASDAQ</th>\n",
       "      <th>KOSDAQ</th>\n",
       "      <th>BTC</th>\n",
       "    </tr>\n",
       "  </thead>\n",
       "  <tbody>\n",
       "    <tr>\n",
       "      <th>0</th>\n",
       "      <td>5/8/2017</td>\n",
       "      <td>6102.7</td>\n",
       "      <td>0.59835</td>\n",
       "      <td>1639.3</td>\n",
       "    </tr>\n",
       "    <tr>\n",
       "      <th>1</th>\n",
       "      <td>5/10/2017</td>\n",
       "      <td>6129.1</td>\n",
       "      <td>0.59769</td>\n",
       "      <td>1756.8</td>\n",
       "    </tr>\n",
       "    <tr>\n",
       "      <th>2</th>\n",
       "      <td>5/11/2017</td>\n",
       "      <td>6116.0</td>\n",
       "      <td>0.60225</td>\n",
       "      <td>1807.4</td>\n",
       "    </tr>\n",
       "    <tr>\n",
       "      <th>3</th>\n",
       "      <td>5/12/2017</td>\n",
       "      <td>6121.2</td>\n",
       "      <td>0.59867</td>\n",
       "      <td>1677.0</td>\n",
       "    </tr>\n",
       "    <tr>\n",
       "      <th>4</th>\n",
       "      <td>5/15/2017</td>\n",
       "      <td>6149.7</td>\n",
       "      <td>0.60020</td>\n",
       "      <td>1697.4</td>\n",
       "    </tr>\n",
       "  </tbody>\n",
       "</table>\n",
       "</div>"
      ],
      "text/plain": [
       "        Date  NASDAQ   KOSDAQ     BTC\n",
       "0   5/8/2017  6102.7  0.59835  1639.3\n",
       "1  5/10/2017  6129.1  0.59769  1756.8\n",
       "2  5/11/2017  6116.0  0.60225  1807.4\n",
       "3  5/12/2017  6121.2  0.59867  1677.0\n",
       "4  5/15/2017  6149.7  0.60020  1697.4"
      ]
     },
     "execution_count": 23,
     "metadata": {},
     "output_type": "execute_result"
    }
   ],
   "source": [
    "dfdata.head()\n"
   ]
  },
  {
   "cell_type": "code",
   "execution_count": 24,
   "metadata": {
    "collapsed": true
   },
   "outputs": [],
   "source": [
    "#Using an api to get google trends data for the word \"bitcoin\"\n",
    "from pytrends.request import TrendReq\n",
    "\n",
    "pytrends = TrendReq(hl='en-US', tz=360) #set to english and central standard time, but cst not necessary"
   ]
  },
  {
   "cell_type": "code",
   "execution_count": 41,
   "metadata": {},
   "outputs": [
    {
     "name": "stdout",
     "output_type": "stream",
     "text": [
      "            Bitcoin  isPartial\n",
      "date                          \n",
      "2017-05-14       11      False\n",
      "2017-05-21       19      False\n",
      "2017-05-28       13      False\n",
      "2017-06-04       12      False\n",
      "2017-06-11       14      False\n"
     ]
    }
   ],
   "source": [
    "#key word for google trends to look for is \"bitcoin\"\n",
    "\n",
    "keyword = 'Bitcoin'\n",
    "pytrend = TrendReq(hl='en-US')\n",
    "\n",
    "pytrend.build_payload(kw_list=[keyword], timeframe='2017-05-08 2018-05-04', geo='', gprop='')\n",
    "\n",
    "# Interest Over Time\n",
    "interest_over_time_df = pytrend.interest_over_time()\n",
    "print(interest_over_time_df.head())"
   ]
  },
  {
   "cell_type": "code",
   "execution_count": 28,
   "metadata": {},
   "outputs": [
    {
     "ename": "ResponseError",
     "evalue": "The request failed: Google returned a response with code 500.",
     "output_type": "error",
     "traceback": [
      "\u001b[1;31m---------------------------------------------------------------------------\u001b[0m",
      "\u001b[1;31mResponseError\u001b[0m                             Traceback (most recent call last)",
      "\u001b[1;32m<ipython-input-28-4b46993a7b6f>\u001b[0m in \u001b[0;36m<module>\u001b[1;34m()\u001b[0m\n\u001b[1;32m----> 1\u001b[1;33m \u001b[0mpytrends\u001b[0m\u001b[1;33m.\u001b[0m\u001b[0minterest_over_time\u001b[0m\u001b[1;33m(\u001b[0m\u001b[1;33m)\u001b[0m\u001b[1;33m\u001b[0m\u001b[0m\n\u001b[0m",
      "\u001b[1;32m~\\Anaconda3\\lib\\site-packages\\pytrends\\request.py\u001b[0m in \u001b[0;36minterest_over_time\u001b[1;34m(self)\u001b[0m\n\u001b[0;32m    155\u001b[0m             \u001b[0mmethod\u001b[0m\u001b[1;33m=\u001b[0m\u001b[0mTrendReq\u001b[0m\u001b[1;33m.\u001b[0m\u001b[0mGET_METHOD\u001b[0m\u001b[1;33m,\u001b[0m\u001b[1;33m\u001b[0m\u001b[0m\n\u001b[0;32m    156\u001b[0m             \u001b[0mtrim_chars\u001b[0m\u001b[1;33m=\u001b[0m\u001b[1;36m5\u001b[0m\u001b[1;33m,\u001b[0m\u001b[1;33m\u001b[0m\u001b[0m\n\u001b[1;32m--> 157\u001b[1;33m             \u001b[0mparams\u001b[0m\u001b[1;33m=\u001b[0m\u001b[0mover_time_payload\u001b[0m\u001b[1;33m,\u001b[0m\u001b[1;33m\u001b[0m\u001b[0m\n\u001b[0m\u001b[0;32m    158\u001b[0m         )\n\u001b[0;32m    159\u001b[0m \u001b[1;33m\u001b[0m\u001b[0m\n",
      "\u001b[1;32m~\\Anaconda3\\lib\\site-packages\\pytrends\\request.py\u001b[0m in \u001b[0;36m_get_data\u001b[1;34m(self, url, method, trim_chars, **kwargs)\u001b[0m\n\u001b[0;32m     86\u001b[0m             \u001b[1;31m# is not allowed by Google\u001b[0m\u001b[1;33m\u001b[0m\u001b[1;33m\u001b[0m\u001b[0m\n\u001b[0;32m     87\u001b[0m             raise exceptions.ResponseError('The request failed: Google returned a '\n\u001b[1;32m---> 88\u001b[1;33m                                            'response with code {0}.'.format(response.status_code), response=response)\n\u001b[0m\u001b[0;32m     89\u001b[0m \u001b[1;33m\u001b[0m\u001b[0m\n\u001b[0;32m     90\u001b[0m     \u001b[1;32mdef\u001b[0m \u001b[0mbuild_payload\u001b[0m\u001b[1;33m(\u001b[0m\u001b[0mself\u001b[0m\u001b[1;33m,\u001b[0m \u001b[0mkw_list\u001b[0m\u001b[1;33m,\u001b[0m \u001b[0mcat\u001b[0m\u001b[1;33m=\u001b[0m\u001b[1;36m0\u001b[0m\u001b[1;33m,\u001b[0m \u001b[0mtimeframe\u001b[0m\u001b[1;33m=\u001b[0m\u001b[1;34m'today 5-y'\u001b[0m\u001b[1;33m,\u001b[0m \u001b[0mgeo\u001b[0m\u001b[1;33m=\u001b[0m\u001b[1;34m''\u001b[0m\u001b[1;33m,\u001b[0m \u001b[0mgprop\u001b[0m\u001b[1;33m=\u001b[0m\u001b[1;34m''\u001b[0m\u001b[1;33m)\u001b[0m\u001b[1;33m:\u001b[0m\u001b[1;33m\u001b[0m\u001b[0m\n",
      "\u001b[1;31mResponseError\u001b[0m: The request failed: Google returned a response with code 500."
     ]
    }
   ],
   "source": []
  },
  {
   "cell_type": "code",
   "execution_count": null,
   "metadata": {
    "collapsed": true
   },
   "outputs": [],
   "source": []
  }
 ],
 "metadata": {
  "kernelspec": {
   "display_name": "Python 3",
   "language": "python",
   "name": "python3"
  },
  "language_info": {
   "codemirror_mode": {
    "name": "ipython",
    "version": 3
   },
   "file_extension": ".py",
   "mimetype": "text/x-python",
   "name": "python",
   "nbconvert_exporter": "python",
   "pygments_lexer": "ipython3",
   "version": "3.6.3"
  }
 },
 "nbformat": 4,
 "nbformat_minor": 2
}
